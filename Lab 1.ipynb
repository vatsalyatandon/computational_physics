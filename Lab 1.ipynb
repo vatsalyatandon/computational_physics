{
 "cells": [
  {
   "cell_type": "markdown",
   "metadata": {},
   "source": [
    "## Problem 1: Variance\n",
    "\n",
    "Using python programming find and print the variance (up to two decimal places) of the elements of a numpy array of length N. Take the inputs in N+1 lines, where the first line is the value of N which is an integer then take N elements of the array from the next N lines.\n",
    "\n",
    "Variance is defined as σ2=⟨x2⟩−⟨x⟩^2, where, ⟨x2⟩ is average of the square of the elements of the array and ⟨x⟩ is the average of the elements.\n",
    "\n",
    "Input:\n",
    "3\n",
    "1.\n",
    "2.\n",
    "3.\n",
    "Output:\n",
    "0.67"
   ]
  },
  {
   "cell_type": "code",
   "execution_count": null,
   "metadata": {},
   "outputs": [],
   "source": [
    "import numpy as np\n",
    "N = int(input())\n",
    "a = np.empty(N)\n",
    "asq = np.empty(N)\n",
    "for i in range(len(a)):\n",
    "    x = float(input())\n",
    "    a[i] = x\n",
    "    asq[i] = a[i]*a[i]\n",
    "ans = round(asq.mean() - (a.mean())**2 , 2)\n",
    "print(ans)"
   ]
  },
  {
   "cell_type": "markdown",
   "metadata": {},
   "source": [
    "## Problem 2: Sorting\n",
    "\n",
    "Using python programming sort a numpy array of length N in descending order. Take the inputs in N+1 lines, where the first line is the value of N which is an integer then take N float elements of the array from the next N lines. \n",
    "\n",
    "Note: Don't use any in-built function for sorting. Use loops and if-else statements.\n",
    "\n",
    "Input:\n",
    "4\n",
    "1\n",
    "4\n",
    "2\n",
    "8\n",
    "Output:\n",
    "[8. 4. 2. 1.]"
   ]
  },
  {
   "cell_type": "code",
   "execution_count": null,
   "metadata": {},
   "outputs": [],
   "source": [
    "import numpy as np\n",
    "\n",
    "N = int(input())\n",
    "a = np.empty(N)\n",
    "\n",
    "for i in range(len(a)):\n",
    "    x = float(input())\n",
    "    a[i] = x\n",
    "\n",
    "for i in range(N):\n",
    "    for j in range (N-i-1):\n",
    "        if a[j+1] > a[j]:\n",
    "            temp = a[j+1]\n",
    "            a[j+1] = a[j]\n",
    "            a[j] = temp\n",
    "print(a)"
   ]
  },
  {
   "cell_type": "markdown",
   "metadata": {},
   "source": [
    "## Problem 3: Series Sum\n",
    "\n",
    "Sin function sin x can be approximated by its taylor series expansion given by,\n",
    "sin x = ∑n=0 to infinity (−1)^n (x^(2n+1) / (2n+1)!) = x − (x^3)/3! + (x^5)/5!−...\n",
    "Find and print sum of this sin x series up to first N terms for a given x. Your output should be rounded off to two decimal places using the round function. Your inputs are x and N in two lines respectively.\n",
    "\n",
    "Input:\n",
    "0.1\n",
    "1\n",
    "Output:\n",
    "0.1"
   ]
  },
  {
   "cell_type": "code",
   "execution_count": null,
   "metadata": {},
   "outputs": [],
   "source": [
    "x = float(input())\n",
    "n = int(input())\n",
    "\n",
    "def factorial(n):\n",
    "    ans = 1\n",
    "    for i in range(2,n+1,1):\n",
    "        ans*= i\n",
    "    return ans\n",
    "  \n",
    "sum = 0  \n",
    "for i in range(n+1):\n",
    "    sum += (-1)**i * (x**(2*i + 1))/(factorial(2*i+1))\n",
    "\n",
    "print(round(sum,2))"
   ]
  },
  {
   "cell_type": "markdown",
   "metadata": {},
   "source": [
    "## Problem 4: Magnitude\n",
    "\n",
    "Take the components of a vector in 3D cartesian space as input. Compute the magnitude of the vector up to 2 decimal places using a python program. Your input must be in three lines.\n",
    "\n",
    "Input:\n",
    "1\n",
    "1\n",
    "1\n",
    "Output:\n",
    "1.73"
   ]
  },
  {
   "cell_type": "code",
   "execution_count": null,
   "metadata": {},
   "outputs": [],
   "source": [
    "x = float(input())\n",
    "y = float(input())\n",
    "z = float(input())\n",
    "\n",
    "dist = (x**2 + y**2 + z**2)**0.5\n",
    "\n",
    "print(round(dist,2))"
   ]
  },
  {
   "cell_type": "markdown",
   "metadata": {},
   "source": [
    "## Problem 5: Sequence\n",
    "\n",
    "A sequence is defined as each element is the sum of the previous three elements, where the first three elements are given by 0, 1 and 2. Write a python program to find the nth element of this sequence. Here n is taken as an integer input.\n",
    "\n",
    "Input:\n",
    "4\n",
    "Output:\n",
    "3"
   ]
  },
  {
   "cell_type": "code",
   "execution_count": null,
   "metadata": {},
   "outputs": [],
   "source": [
    "def sequence(n):\n",
    "    if n == 1:\n",
    "        return 0\n",
    "    elif n == 2:\n",
    "        return 1\n",
    "    elif n == 3:\n",
    "        return 2\n",
    "    else :\n",
    "        return sequence(n-1) + sequence(n-2) + sequence(n-3)\n",
    "        \n",
    "N = int(input())\n",
    "print(sequence(N))\n",
    "        "
   ]
  }
 ],
 "metadata": {
  "kernelspec": {
   "display_name": "Python 3",
   "language": "python",
   "name": "python3"
  },
  "language_info": {
   "codemirror_mode": {
    "name": "ipython",
    "version": 3
   },
   "file_extension": ".py",
   "mimetype": "text/x-python",
   "name": "python",
   "nbconvert_exporter": "python",
   "pygments_lexer": "ipython3",
   "version": "3.8.3"
  }
 },
 "nbformat": 4,
 "nbformat_minor": 4
}
